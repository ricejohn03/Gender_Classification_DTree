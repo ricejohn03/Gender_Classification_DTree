{
 "cells": [
  {
   "cell_type": "code",
   "execution_count": 12,
   "metadata": {},
   "outputs": [
    {
     "name": "stdout",
     "output_type": "stream",
     "text": [
      "['female']\n"
     ]
    }
   ],
   "source": [
    "from sklearn import tree\n",
    "\n",
    "# X = features for each indidvual Length, Width , and Shoe Size\n",
    "# y = Label for each set of features\n",
    "X =[[181,80,44],[177,70,43],[160,60,38],[154,54,37],[166,65,40], \n",
    "    [190,90,47],[175,64,39],[177,70,40],[171,75,42],[181,85,43]]\n",
    "Y= ['mail','female','female','female','male','male','male','female',\n",
    "    'female','male']\n",
    "# create a Decision Tree Classifer\n",
    "clf = tree.DecisionTreeClassifier()\n",
    "\n",
    "# train the model \n",
    "clf = clf.fit(X,Y)\n",
    "\n",
    "# Make a prediction and output it \n",
    "prediction = clf.predict([[190,70,43]])\n",
    "print (prediction)\n",
    "\n"
   ]
  },
  {
   "cell_type": "code",
   "execution_count": null,
   "metadata": {},
   "outputs": [],
   "source": []
  }
 ],
 "metadata": {
  "kernelspec": {
   "display_name": "Python 3",
   "language": "python",
   "name": "python3"
  },
  "language_info": {
   "codemirror_mode": {
    "name": "ipython",
    "version": 3
   },
   "file_extension": ".py",
   "mimetype": "text/x-python",
   "name": "python",
   "nbconvert_exporter": "python",
   "pygments_lexer": "ipython3",
   "version": "3.6.4"
  }
 },
 "nbformat": 4,
 "nbformat_minor": 2
}
